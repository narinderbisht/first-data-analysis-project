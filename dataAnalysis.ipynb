{
 "cells": [
  {
   "cell_type": "code",
   "execution_count": 9,
   "metadata": {},
   "outputs": [
    {
     "name": "stdout",
     "output_type": "stream",
     "text": [
      "Total Profit: $286,397.02 \n",
      "Total Sales: $2,297,200.86 \n"
     ]
    }
   ],
   "source": [
    "import pandas as pd\n",
    "data = pd.read_csv('superstore.csv',encoding='latin1')\n",
    "# overall sales performance. Total Sales and Profit\n",
    "# Overall Sales Performance: What is the total sales and profit?\n",
    "totalProfit = pd.to_numeric(data['Profit']).sum()\n",
    "totalSales = pd.to_numeric(data['Sales'].sum())\n",
    "print(f\"Total Profit: ${totalProfit:,.2f} \\nTotal Sales: ${totalSales:,.2f} \")"
   ]
  },
  {
   "cell_type": "code",
   "execution_count": 17,
   "metadata": {},
   "outputs": [
    {
     "name": "stdout",
     "output_type": "stream",
     "text": [
      "               Sales       Profit\n",
      "Region                           \n",
      "Central  501239.8908   39706.3625\n",
      "East     678781.2400   91522.7800\n",
      "South    391721.9050   46749.4303\n",
      "West     725457.8245  108418.4489\n"
     ]
    }
   ],
   "source": [
    "# Regional Trends: Which region has the highest and lowest sales?\n",
    "regional = data.groupby(['Region'])\n",
    "print(regional[['Sales', 'Profit']].sum())"
   ]
  },
  {
   "cell_type": "markdown",
   "metadata": {},
   "source": [
    "Prompt: Print Regional as column. sales and profit value print as currency format."
   ]
  },
  {
   "cell_type": "code",
   "execution_count": 20,
   "metadata": {},
   "outputs": [
    {
     "name": "stdout",
     "output_type": "stream",
     "text": [
      "    Region        Sales       Profit\n",
      "0  Central  $501,239.89   $39,706.36\n",
      "1     East  $678,781.24   $91,522.78\n",
      "2    South  $391,721.91   $46,749.43\n",
      "3     West  $725,457.82  $108,418.45\n"
     ]
    }
   ],
   "source": [
    "#Code suggested by chatgpt.\n",
    "\n",
    "# Group by region\n",
    "regional = data.groupby(['Region'])[['Sales', 'Profit']].sum()\n",
    "\n",
    "# Reset the index to make 'Region' a column\n",
    "regional = regional.reset_index()\n",
    "\n",
    "# Format sales and profit as currency\n",
    "regional['Sales'] = regional['Sales'].apply(lambda x: f\"${x:,.2f}\")\n",
    "regional['Profit'] = regional['Profit'].apply(lambda x: f\"${x:,.2f}\")\n",
    "\n",
    "# Print the result\n",
    "print(regional)\n"
   ]
  },
  {
   "cell_type": "code",
   "execution_count": 37,
   "metadata": {},
   "outputs": [
    {
     "name": "stdout",
     "output_type": "stream",
     "text": [
      "                                    Sales\n",
      "Category        Sub-Category             \n",
      "Furniture       Bookcases     $114,880.00\n",
      "                Chairs        $328,449.10\n",
      "                Furnishings    $91,705.16\n",
      "                Tables        $206,965.53\n",
      "Office Supplies Appliances    $107,532.16\n",
      "                Art            $27,118.79\n",
      "                Binders       $203,412.73\n",
      "                Envelopes      $16,476.40\n",
      "                Fasteners       $3,024.28\n",
      "                Labels         $12,486.31\n",
      "                Paper          $78,479.21\n",
      "                Storage       $223,843.61\n",
      "                Supplies       $46,673.54\n",
      "Technology      Accessories   $167,380.32\n",
      "                Copiers       $149,528.03\n",
      "                Machines      $189,238.63\n",
      "                Phones        $330,007.05\n"
     ]
    }
   ],
   "source": [
    "#Top-Selling Products: Which product categories and subcategories contribute the most to sales?\n",
    "topSales = data.groupby(['Category', 'Sub-Category'])[['Sales']]\n",
    "topSales = topSales.sum()\n",
    "topSales['Sales'] = topSales['Sales'].apply(lambda x: f\"${x:,.2f}\")\n",
    "print(topSales)"
   ]
  },
  {
   "cell_type": "markdown",
   "metadata": {},
   "source": [
    "Chat gpt suggested code"
   ]
  },
  {
   "cell_type": "code",
   "execution_count": null,
   "metadata": {},
   "outputs": [],
   "source": [
    "# Group by Category and Sub-Category, then sum Sales\n",
    "topSales = data.groupby(['Category', 'Sub-Category'])[['Sales']].sum()\n",
    "\n",
    "# Sort the data in descending order of Sales\n",
    "topSales = topSales.sort_values(by='Sales', ascending=False)\n",
    "\n",
    "# Format Sales as currency\n",
    "topSales['Sales'] = topSales['Sales'].apply(lambda x: f\"${x:,.2f}\")\n",
    "\n",
    "# Reset the index for better readability\n",
    "topSales = topSales.reset_index()\n",
    "\n",
    "# Display the result\n",
    "print(topSales)\n"
   ]
  },
  {
   "cell_type": "code",
   "execution_count": 40,
   "metadata": {},
   "outputs": [
    {
     "name": "stdout",
     "output_type": "stream",
     "text": [
      "       Segment       Profit\n",
      "0     Consumer  $134,119.21\n",
      "1    Corporate   $91,979.13\n",
      "2  Home Office   $60,298.68\n"
     ]
    }
   ],
   "source": [
    "#Customer Insights: Which customer segment brings in the most profit?\n",
    "# groupby segment\n",
    "topSegments = data.groupby(['Segment'])[['Profit']].sum()\n",
    "# sorted the data\n",
    "topSegments = topSegments.sort_values(by=\"Profit\", ascending=False)\n",
    "# format the currency\n",
    "topSegments['Profit'] = topSegments['Profit'].apply(lambda x: f\"${x:,.2f}\")\n",
    "topSegments = topSegments.reset_index()\n",
    "print(topSegments)"
   ]
  },
  {
   "cell_type": "code",
   "execution_count": 64,
   "metadata": {},
   "outputs": [
    {
     "name": "stdout",
     "output_type": "stream",
     "text": [
      "   Order Month        Sales      Profit\n",
      "47     2017-12   $83,829.32   $8,483.35\n",
      "46     2017-11  $118,447.82   $9,690.10\n",
      "45     2017-10   $77,776.92   $9,275.28\n",
      "44     2017-09   $87,866.65  $10,991.56\n",
      "43     2017-08   $63,120.89   $9,040.96\n",
      "42     2017-07   $45,264.42   $6,952.62\n",
      "41     2017-06   $52,981.73   $8,223.34\n",
      "40     2017-05   $44,261.11   $6,342.58\n",
      "39     2017-04   $36,521.54     $933.29\n",
      "38     2017-03   $58,872.35  $14,751.89\n",
      "37     2017-02   $20,301.13   $1,613.87\n",
      "36     2017-01   $43,971.37   $7,140.44\n",
      "35     2016-12   $96,999.04  $17,885.31\n",
      "34     2016-11   $79,411.97   $4,011.41\n",
      "33     2016-10   $59,687.75  $16,243.14\n",
      "32     2016-09   $73,410.02   $9,328.66\n",
      "31     2016-08   $31,115.37   $2,062.07\n",
      "30     2016-07   $39,261.96   $4,432.88\n",
      "29     2016-06   $40,344.53   $4,750.38\n",
      "28     2016-05   $56,987.73   $8,662.15\n",
      "27     2016-04   $38,750.04   $2,977.81\n",
      "26     2016-03   $51,715.88   $3,611.97\n",
      "25     2016-02   $22,978.81   $5,004.58\n",
      "24     2016-01   $18,542.49   $2,824.82\n",
      "23     2015-12   $74,919.52   $8,016.97\n",
      "22     2015-11   $75,972.56  $12,474.79\n",
      "21     2015-10   $31,404.92   $2,817.37\n",
      "20     2015-09   $64,595.92   $8,209.16\n",
      "19     2015-08   $36,898.33   $5,355.81\n",
      "18     2015-07   $28,765.33   $3,288.65\n",
      "17     2015-06   $24,797.29   $3,335.56\n",
      "16     2015-05   $30,131.69   $4,667.87\n",
      "15     2015-04   $34,195.21   $4,187.50\n",
      "14     2015-03   $38,726.25   $9,732.10\n",
      "13     2015-02   $11,951.41   $2,813.85\n",
      "12     2015-01   $18,174.08  $-3,281.01\n",
      "11     2014-12   $69,545.62   $8,983.57\n",
      "10     2014-11   $78,628.72   $9,292.13\n",
      "9      2014-10   $31,453.39   $3,448.26\n",
      "8      2014-09   $81,777.35   $8,328.10\n",
      "7      2014-08   $27,909.47   $5,318.10\n",
      "6      2014-07   $33,946.39    $-841.48\n",
      "5      2014-06   $34,595.13   $4,976.52\n",
      "4      2014-05   $23,648.29   $2,738.71\n",
      "3      2014-04   $28,295.35   $3,488.84\n",
      "2      2014-03   $55,691.01     $498.73\n",
      "1      2014-02    $4,519.89     $862.31\n",
      "0      2014-01   $14,236.90   $2,450.19\n"
     ]
    }
   ],
   "source": [
    "# Monthly Trends: How do sales and profit vary over months and years?\n",
    "\n",
    "data['Order Date'] = pd.to_datetime(data['Order Date'], format='mixed')\n",
    "#orderMonth = pd.to_datetime(data['Order Date'], format='%m')\n",
    "\n",
    "# Extract the month from 'Order Date'\n",
    "data['Order Month'] = data['Order Date'].dt.to_period('M')\n",
    "\n",
    "# Print the new 'Order Month' column\n",
    "#print(data['Order Month'])\n",
    "\n",
    "monthlyData = data.groupby(data['Order Month'])[['Sales', 'Profit']].sum()\n",
    "\n",
    "monthlyData = monthlyData.reset_index()\n",
    "monthlyData = monthlyData.sort_values(by='Order Month', ascending=False)\n",
    "monthlyData['Sales'] = monthlyData['Sales'].apply(lambda x: f\"${x:,.2f}\")\n",
    "monthlyData['Profit'] = monthlyData['Profit'].apply(lambda x: f\"${x:,.2f}\")\n",
    "\n",
    "print(monthlyData)"
   ]
  },
  {
   "cell_type": "markdown",
   "metadata": {},
   "source": [
    "Improved version by chat gpt"
   ]
  },
  {
   "cell_type": "code",
   "execution_count": 59,
   "metadata": {},
   "outputs": [
    {
     "name": "stdout",
     "output_type": "stream",
     "text": [
      "   Order Month        Sales      Profit\n",
      "0      2014-01   $14,236.90   $2,450.19\n",
      "1      2014-02    $4,519.89     $862.31\n",
      "2      2014-03   $55,691.01     $498.73\n",
      "3      2014-04   $28,295.35   $3,488.84\n",
      "4      2014-05   $23,648.29   $2,738.71\n",
      "5      2014-06   $34,595.13   $4,976.52\n",
      "6      2014-07   $33,946.39    $-841.48\n",
      "7      2014-08   $27,909.47   $5,318.10\n",
      "8      2014-09   $81,777.35   $8,328.10\n",
      "9      2014-10   $31,453.39   $3,448.26\n",
      "10     2014-11   $78,628.72   $9,292.13\n",
      "11     2014-12   $69,545.62   $8,983.57\n",
      "12     2015-01   $18,174.08  $-3,281.01\n",
      "13     2015-02   $11,951.41   $2,813.85\n",
      "14     2015-03   $38,726.25   $9,732.10\n",
      "15     2015-04   $34,195.21   $4,187.50\n",
      "16     2015-05   $30,131.69   $4,667.87\n",
      "17     2015-06   $24,797.29   $3,335.56\n",
      "18     2015-07   $28,765.33   $3,288.65\n",
      "19     2015-08   $36,898.33   $5,355.81\n",
      "20     2015-09   $64,595.92   $8,209.16\n",
      "21     2015-10   $31,404.92   $2,817.37\n",
      "22     2015-11   $75,972.56  $12,474.79\n",
      "23     2015-12   $74,919.52   $8,016.97\n",
      "24     2016-01   $18,542.49   $2,824.82\n",
      "25     2016-02   $22,978.81   $5,004.58\n",
      "26     2016-03   $51,715.88   $3,611.97\n",
      "27     2016-04   $38,750.04   $2,977.81\n",
      "28     2016-05   $56,987.73   $8,662.15\n",
      "29     2016-06   $40,344.53   $4,750.38\n",
      "30     2016-07   $39,261.96   $4,432.88\n",
      "31     2016-08   $31,115.37   $2,062.07\n",
      "32     2016-09   $73,410.02   $9,328.66\n",
      "33     2016-10   $59,687.75  $16,243.14\n",
      "34     2016-11   $79,411.97   $4,011.41\n",
      "35     2016-12   $96,999.04  $17,885.31\n",
      "36     2017-01   $43,971.37   $7,140.44\n",
      "37     2017-02   $20,301.13   $1,613.87\n",
      "38     2017-03   $58,872.35  $14,751.89\n",
      "39     2017-04   $36,521.54     $933.29\n",
      "40     2017-05   $44,261.11   $6,342.58\n",
      "41     2017-06   $52,981.73   $8,223.34\n",
      "42     2017-07   $45,264.42   $6,952.62\n",
      "43     2017-08   $63,120.89   $9,040.96\n",
      "44     2017-09   $87,866.65  $10,991.56\n",
      "45     2017-10   $77,776.92   $9,275.28\n",
      "46     2017-11  $118,447.82   $9,690.10\n",
      "47     2017-12   $83,829.32   $8,483.35\n"
     ]
    }
   ],
   "source": [
    "\n",
    "# Ensure 'Order Date' is in datetime format\n",
    "data['Order Date'] = pd.to_datetime(data['Order Date'], errors='coerce')\n",
    "\n",
    "# Extract year and month as a new column 'Order Month'\n",
    "data['Order Month'] = data['Order Date'].dt.to_period('M')\n",
    "\n",
    "# Group by 'Order Month' and calculate the sum of 'Sales' and 'Profit'\n",
    "monthlyData = data.groupby('Order Month')[['Sales', 'Profit']].sum()\n",
    "\n",
    "# Sort by 'Order Month' (ascending order for chronological analysis)\n",
    "monthlyData = monthlyData.sort_index()\n",
    "\n",
    "# Reset the index for a clean DataFrame structure\n",
    "monthlyData = monthlyData.reset_index()\n",
    "\n",
    "# Format 'Sales' and 'Profit' as currency\n",
    "monthlyData['Sales'] = monthlyData['Sales'].apply(lambda x: f\"${x:,.2f}\")\n",
    "monthlyData['Profit'] = monthlyData['Profit'].apply(lambda x: f\"${x:,.2f}\")\n",
    "\n",
    "# Display the resulting DataFrame\n",
    "print(monthlyData)\n"
   ]
  }
 ],
 "metadata": {
  "kernelspec": {
   "display_name": "Python 3",
   "language": "python",
   "name": "python3"
  },
  "language_info": {
   "codemirror_mode": {
    "name": "ipython",
    "version": 3
   },
   "file_extension": ".py",
   "mimetype": "text/x-python",
   "name": "python",
   "nbconvert_exporter": "python",
   "pygments_lexer": "ipython3",
   "version": "3.13.1"
  }
 },
 "nbformat": 4,
 "nbformat_minor": 2
}
