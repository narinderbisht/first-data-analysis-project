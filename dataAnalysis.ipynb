{
 "cells": [
  {
   "cell_type": "markdown",
   "metadata": {},
   "source": [
    "Overall Sales Performance: What is the total sales and profit?\n",
    "Regional Trends: Which region has the highest and lowest sales?\n",
    "Top-Selling Products: Which product categories and subcategories contribute the most to sales?\n",
    "Customer Insights: Which customer segment brings in the most profit?\n",
    "Monthly Trends: How do sales and profit vary over months and years?"
   ]
  },
  {
   "cell_type": "code",
   "execution_count": 20,
   "metadata": {},
   "outputs": [
    {
     "name": "stdout",
     "output_type": "stream",
     "text": [
      "Total Profit: $2261536.78 \n",
      "Total Sales: 9800 \n"
     ]
    }
   ],
   "source": [
    "import pandas as pd\n",
    "data = pd.read_csv('salesdata.csv')\n",
    "# overall sales performance. Total Sales and Profit\n",
    "totalProfit = pd.to_numeric(data['Sales']).sum()\n",
    "numberSales = pd.to_numeric(data['Order ID'].count())\n",
    "print(f\"Total Profit: ${totalProfit:.2f} \\nTotal Sales: {numberSales} \")"
   ]
  }
 ],
 "metadata": {
  "kernelspec": {
   "display_name": "Python 3",
   "language": "python",
   "name": "python3"
  },
  "language_info": {
   "codemirror_mode": {
    "name": "ipython",
    "version": 3
   },
   "file_extension": ".py",
   "mimetype": "text/x-python",
   "name": "python",
   "nbconvert_exporter": "python",
   "pygments_lexer": "ipython3",
   "version": "3.13.1"
  }
 },
 "nbformat": 4,
 "nbformat_minor": 2
}
